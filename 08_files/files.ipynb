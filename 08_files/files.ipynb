{
 "cells": [
  {
   "cell_type": "markdown",
   "metadata": {},
   "source": [
    "# Основы программирования в Python\n",
    "##  Работа с текстовыми файлами\n",
    "*Автор: Татьяна Рогович, НИУ ВШЭ*\n"
   ]
  },
  {
   "cell_type": "markdown",
   "metadata": {},
   "source": [
    "### Файловый ввод-вывод\n",
    "Мы начинаем работать с файлами. Сейчас будем обсуждать только чтение и запись. О том, как запускать файлы на исполнение, отдельная история. Также для начала речь пойдёт о текстовых файлах или похожих на текстовые (например, код на Python или CSV-файл будет текстовым).\n",
    "\n",
    "Как правило, если указать в Python не полный путь к файлу, а только его название, то он будет искать файл в рабочей директории. Как узнать, где это?"
   ]
  },
  {
   "cell_type": "code",
   "execution_count": 1,
   "metadata": {},
   "outputs": [
    {
     "data": {
      "text/plain": [
       "'C:\\\\Users\\\\User\\\\ППО 2021'"
      ]
     },
     "execution_count": 1,
     "metadata": {},
     "output_type": "execute_result"
    }
   ],
   "source": [
    "import os\n",
    "os.getcwd()"
   ]
  },
  {
   "cell_type": "markdown",
   "metadata": {},
   "source": [
    "Функция `getcwd()` из модуля `os` возвращает нам путь к вашей рабочей папке. Так, например, в Windows по умолчанию Anaconda делает рабочей папкой для Jupyter папку пользователя в Users. Если вы создали блокнот в какой-то другой папке — по умолчанию его директория и будет рабочей. Это можно изменить или глобально, прописав путь к вашей папке в свойствах, или локально в рамках сессии.\n",
    "\n",
    "Функция `chdir()` принимает в качестве аргумента путь к папке и меняет рабочую директорию. Теперь к файлам, хранящимся в ней вы сможете обращаться без полного пути. Также все новые файлы будут сохраняться туда же."
   ]
  },
  {
   "cell_type": "code",
   "execution_count": 5,
   "metadata": {},
   "outputs": [
    {
     "data": {
      "text/plain": [
       "'C:\\\\Users\\\\User\\\\Desktop\\\\2020_HSE_SOC_PPO-master'"
      ]
     },
     "execution_count": 5,
     "metadata": {},
     "output_type": "execute_result"
    }
   ],
   "source": [
    "os.chdir('C:\\\\Users\\\\User\\\\Desktop\\\\2020_HSE_SOC_PPO-master')\n",
    "os.getcwd()"
   ]
  },
  {
   "cell_type": "markdown",
   "metadata": {},
   "source": [
    "`listdir()` вернет нам список содержимого директории. Очень полезная функция  —  можно запустить цикл, если нужно обработать все файлы в папке."
   ]
  },
  {
   "cell_type": "code",
   "execution_count": 6,
   "metadata": {},
   "outputs": [
    {
     "data": {
      "text/plain": [
       "['.gitattributes',\n",
       " '1 Seminar',\n",
       " '1_Test',\n",
       " '2 Seminar',\n",
       " '2_Test',\n",
       " '3 Seminar',\n",
       " '4 Seminar',\n",
       " '5 Seminar',\n",
       " '6_Seminar',\n",
       " '7_Seminar',\n",
       " 'README.md']"
      ]
     },
     "execution_count": 6,
     "metadata": {},
     "output_type": "execute_result"
    }
   ],
   "source": [
    "os.listdir()"
   ]
  },
  {
   "cell_type": "markdown",
   "metadata": {},
   "source": [
    "Давайте попробуем создать файл, записать в него что-нибудь и сохранить."
   ]
  },
  {
   "cell_type": "code",
   "execution_count": 7,
   "metadata": {},
   "outputs": [],
   "source": [
    "f = open(\"test.txt\", 'w', encoding='utf8')"
   ]
  },
  {
   "cell_type": "markdown",
   "metadata": {},
   "source": [
    "Функция `open()` возвращает файловый объект и мы используем ее обычно с двумя аргументами — имя файла и режим (например, запись или чтение). Выше мы открыли файл `test.txt` в режиме записи `'w'` (если такого файла не существовало, он будет создан).\n",
    "\n",
    "Такой объект называется `file handle` или дескриптор файла.\n",
    "\n",
    "![](https://www.py4e.com/images/handle.svg)  \n",
    "Source: https://www.py4e.com/html3/07-files\n",
    "\n",
    "Какие могут быть режимы открытия файла (mode):\n",
    "\n",
    "* `'r'` — `read`, только чтение\n",
    "* `'w'` — `write`, только запись (если файл с таким именем существовал, он будет удален).\n",
    "* `'a'` — `append`, новые данные будут записаны в конец файла\n",
    "* `'r+'` — чтение+запись.\n",
    "\n",
    "Если не передать второй аргумент, то файл автоматически откроется в режиме чтения.\n",
    "\n",
    "`encoding` — именнованный параметр, если работаете с кириллицей или языками со спецсимволами, то лучше задать `utf8`."
   ]
  },
  {
   "cell_type": "code",
   "execution_count": 8,
   "metadata": {},
   "outputs": [],
   "source": [
    "f.write('Hello, world!')\n",
    "f.close()"
   ]
  },
  {
   "cell_type": "markdown",
   "metadata": {},
   "source": [
    "Метод `write` записал данные в наш файл. После этого файл нужно закрыть, чтобы он выгрузился из оперативной памяти. Если этого не сделать, то в какой-то момент питоновский сборщик мусора все равно до него доберется и закроет файл, но большие файлы могут съедать достаточно много ресурсов, поэтому лучше за этим следить.\n",
    "\n",
    "Теперь дававайте попробуем открыть в режиме чтения."
   ]
  },
  {
   "cell_type": "code",
   "execution_count": 9,
   "metadata": {},
   "outputs": [
    {
     "name": "stdout",
     "output_type": "stream",
     "text": [
      "Hello, world!\n"
     ]
    }
   ],
   "source": [
    "f = open(\"test.txt\", 'r', encoding='utf8')\n",
    "print(f.read())\n",
    "f.close()"
   ]
  },
  {
   "cell_type": "markdown",
   "metadata": {},
   "source": [
    "После того, как мы закрыли файл, обратиться к нему больше нельзя."
   ]
  },
  {
   "cell_type": "code",
   "execution_count": 10,
   "metadata": {},
   "outputs": [
    {
     "ename": "ValueError",
     "evalue": "I/O operation on closed file.",
     "output_type": "error",
     "traceback": [
      "\u001b[1;31m---------------------------------------------------------------------------\u001b[0m",
      "\u001b[1;31mValueError\u001b[0m                                Traceback (most recent call last)",
      "\u001b[1;32m<ipython-input-10-571e9fb02258>\u001b[0m in \u001b[0;36m<module>\u001b[1;34m\u001b[0m\n\u001b[1;32m----> 1\u001b[1;33m \u001b[0mf\u001b[0m\u001b[1;33m.\u001b[0m\u001b[0mread\u001b[0m\u001b[1;33m(\u001b[0m\u001b[1;33m)\u001b[0m\u001b[1;33m\u001b[0m\u001b[0m\n\u001b[0m",
      "\u001b[1;31mValueError\u001b[0m: I/O operation on closed file."
     ]
    }
   ],
   "source": [
    "f.read()"
   ]
  },
  {
   "cell_type": "markdown",
   "metadata": {},
   "source": [
    "Хорошим тоном при работе с файлами считается открывать их с помощью ключевого слова `with`. Преимущество этого способа в том, что файл закроется автоматически, когда закончатся вложенные операции."
   ]
  },
  {
   "cell_type": "code",
   "execution_count": 11,
   "metadata": {},
   "outputs": [],
   "source": [
    "with open('test.txt') as f: # Открыли файл, не указали режим, по умолчанию — чтение\n",
    "    read_data = f.read()    # Считали данные из файла в переменную\n",
    "                            # Операции закончились, файл сам закрылся"
   ]
  },
  {
   "cell_type": "code",
   "execution_count": 12,
   "metadata": {},
   "outputs": [
    {
     "name": "stdout",
     "output_type": "stream",
     "text": [
      "Hello, world!\n"
     ]
    }
   ],
   "source": [
    "print(read_data)"
   ]
  },
  {
   "cell_type": "markdown",
   "metadata": {},
   "source": [
    "А теперь попробуем записать в файл новые строки."
   ]
  },
  {
   "cell_type": "code",
   "execution_count": 13,
   "metadata": {},
   "outputs": [],
   "source": [
    "with open('test.txt', 'a') as f: # Открыли файл\n",
    "    f.write('\\n Is this an african swallow?\\n Or an european swallow?') # Дозаписали строки в файл"
   ]
  },
  {
   "cell_type": "markdown",
   "metadata": {},
   "source": [
    "Еще один вариант записать данные в файл вот так:"
   ]
  },
  {
   "cell_type": "code",
   "execution_count": 14,
   "metadata": {},
   "outputs": [],
   "source": [
    "with open('test.txt', 'a') as f:\n",
    "    print(\"\\nAnd another string\", file = f)"
   ]
  },
  {
   "cell_type": "code",
   "execution_count": 15,
   "metadata": {},
   "outputs": [
    {
     "name": "stdout",
     "output_type": "stream",
     "text": [
      "Hello, world!\n",
      " Is this an african swallow?\n",
      " Or an european swallow?\n",
      "And another string\n",
      "\n"
     ]
    }
   ],
   "source": [
    "with open('test.txt') as f: \n",
    "    print(f.read())"
   ]
  },
  {
   "cell_type": "markdown",
   "metadata": {},
   "source": [
    "Мы выше уже видели два метода файла `.write()` и `.read()`. Еще один метод, который очень часто используется — это `readline`. Он позволяет не загружать файл целиком в память, а считывать его построчно. Знаком остановки здесь будет выступать `\\n`."
   ]
  },
  {
   "cell_type": "code",
   "execution_count": 16,
   "metadata": {},
   "outputs": [
    {
     "data": {
      "text/plain": [
       "'Hello, world!\\n'"
      ]
     },
     "execution_count": 16,
     "metadata": {},
     "output_type": "execute_result"
    }
   ],
   "source": [
    "f = open('test.txt', 'r')\n",
    "f.readline()"
   ]
  },
  {
   "cell_type": "code",
   "execution_count": 17,
   "metadata": {},
   "outputs": [
    {
     "data": {
      "text/plain": [
       "' Is this an african swallow?\\n'"
      ]
     },
     "execution_count": 17,
     "metadata": {},
     "output_type": "execute_result"
    }
   ],
   "source": [
    "f.readline()"
   ]
  },
  {
   "cell_type": "markdown",
   "metadata": {},
   "source": [
    "`.readline()` — генератор. При обращении он выдает нам новую строку."
   ]
  },
  {
   "cell_type": "code",
   "execution_count": 18,
   "metadata": {},
   "outputs": [
    {
     "data": {
      "text/plain": [
       "' Or an european swallow?\\n'"
      ]
     },
     "execution_count": 18,
     "metadata": {},
     "output_type": "execute_result"
    }
   ],
   "source": [
    "f.readline() # Вызвали третий раз"
   ]
  },
  {
   "cell_type": "code",
   "execution_count": 19,
   "metadata": {},
   "outputs": [],
   "source": [
    "f.close()"
   ]
  },
  {
   "cell_type": "markdown",
   "metadata": {},
   "source": [
    "Также, чтобы прочитать все строки поочередно, можно запустить цикл. Тут не стоит забывать, что переменная `f`, хоть и прикидывается списком строк, когда мы её итерируем, на самом деле таковым не является. В действительности при открытии файла мы запоминаем позицию, на которой мы этот файл читаем. Изначально она указывает на самое начало файла, но с каждой итерацией сдвигается. Когда мы прочитаем файл целиком, дальнейшие попытки из него что-то прочитать ни к чему не приведут: указатель текущей позиции сдвинулся до самого конца и файл закончился."
   ]
  },
  {
   "cell_type": "code",
   "execution_count": 20,
   "metadata": {},
   "outputs": [
    {
     "name": "stdout",
     "output_type": "stream",
     "text": [
      "Hello, world!\n",
      " Is this an african swallow?\n",
      " Or an european swallow?\n",
      "And another string\n"
     ]
    }
   ],
   "source": [
    "f = open('test.txt', 'r')\n",
    "\n",
    "for line in f:\n",
    "    print(line, end='')\n",
    "    \n",
    "for line in f: # Обратите внимание, что этот цикл не выполняется\n",
    "    print(line, end='')\n",
    "    \n",
    "f.close()"
   ]
  },
  {
   "cell_type": "markdown",
   "metadata": {},
   "source": [
    "Файл можно перемотать на начало, если воспользоваться методом `.seek()`, который возвращается к символу на этой позиции."
   ]
  },
  {
   "cell_type": "code",
   "execution_count": 21,
   "metadata": {},
   "outputs": [
    {
     "name": "stdout",
     "output_type": "stream",
     "text": [
      "Hello, world!\n",
      " Is this an african swallow?\n",
      " Or an european swallow?\n",
      "And another string\n",
      "Hello, world!\n",
      " Is this an african swallow?\n",
      " Or an european swallow?\n",
      "And another string\n"
     ]
    }
   ],
   "source": [
    "f = open('test.txt', 'r')\n",
    "\n",
    "for line in f:\n",
    "    print(line, end='')\n",
    "\n",
    "f.seek(0) # Вернули файл на начало    \n",
    "    \n",
    "for line in f: # Теперь печатает!\n",
    "    print(line, end='')\n",
    "    \n",
    "f.close()"
   ]
  },
  {
   "cell_type": "markdown",
   "metadata": {},
   "source": [
    "Если методу `read()` передать целое число, то питон прочитает только заданное количество символов или битов, если информация в файле записана в бинарном формате."
   ]
  },
  {
   "cell_type": "code",
   "execution_count": 22,
   "metadata": {},
   "outputs": [
    {
     "name": "stdout",
     "output_type": "stream",
     "text": [
      "Hello,\n"
     ]
    }
   ],
   "source": [
    "with open('test.txt') as f: \n",
    "    print(f.read(6))"
   ]
  },
  {
   "cell_type": "markdown",
   "metadata": {},
   "source": [
    "Чтобы считать все строки файла в список, можно вызвать список от файлового объекта или использовать метод `.readlines()`."
   ]
  },
  {
   "cell_type": "code",
   "execution_count": 23,
   "metadata": {},
   "outputs": [
    {
     "name": "stdout",
     "output_type": "stream",
     "text": [
      "['Hello, world!\\n', ' Is this an african swallow?\\n', ' Or an european swallow?\\n', 'And another string\\n']\n"
     ]
    }
   ],
   "source": [
    "f = open('test.txt', 'r')\n",
    "print(list(f))\n",
    "f.close()"
   ]
  },
  {
   "cell_type": "code",
   "execution_count": 24,
   "metadata": {},
   "outputs": [
    {
     "data": {
      "text/plain": [
       "['Hello, world!\\n',\n",
       " ' Is this an african swallow?\\n',\n",
       " ' Or an european swallow?\\n',\n",
       " 'And another string\\n']"
      ]
     },
     "execution_count": 24,
     "metadata": {},
     "output_type": "execute_result"
    }
   ],
   "source": [
    "f = open('test.txt', 'r')\n",
    "L = list(f)\n",
    "f.close()\n",
    "L"
   ]
  },
  {
   "cell_type": "code",
   "execution_count": 27,
   "metadata": {},
   "outputs": [
    {
     "name": "stdout",
     "output_type": "stream",
     "text": [
      "['Hello, world!\\n', ' Is this an african swallow?\\n', ' Or an european swallow?\\n', 'And another string\\n']\n"
     ]
    }
   ],
   "source": [
    "f = open('test.txt', 'r')\n",
    "print(f.readlines())\n",
    "f.close()"
   ]
  },
  {
   "cell_type": "markdown",
   "metadata": {},
   "source": [
    "# Задачи для тренировки\n",
    "Часть из этих задач мы решим в классе. Но если мы даже не успеем  — попытайтесь сделать их дома сами.\n",
    "\n",
    "### Задание 1. Обработка файла\n",
    "\n",
    "Каждый пункт — разные задания, не нужно сразу умещать все в один код.\n",
    "\n",
    "+ в файле mbox.txt есть строки формата \"Date: Sat, 5 Jan 2008 09:12:18 -0500\" — время, когда ушло письмо; напечатайте их\n",
    "+ у каждого письма на самом деле две строки, начинающихся с 'Date: ', напечатайте только одну из них\n",
    "+ напечатайте час, в который было отправлено каждое сообщение\n",
    "+ (самое сложное) сделайте словарь, в который будете сохранять, в каком часу люди пишут письма (час от 0 до 23 — ключ, количество писем, написанных в это время, — значение)\n",
    "+ напечатайте данные словаря в следующем виде \"В NN часов было отправлено XX писем\" (часы должны быть отсортированы по возрастанию)"
   ]
  },
  {
   "cell_type": "code",
   "execution_count": 2,
   "metadata": {},
   "outputs": [
    {
     "name": "stdout",
     "output_type": "stream",
     "text": [
      "Date: Sat, 5 Jan 2008 09:12:18 -0500\n",
      "\n"
     ]
    }
   ],
   "source": [
    "with open('mbox.txt') as f:\n",
    "    for line in f:\n",
    "        if line.startswith('Date: '):\n",
    "            print(line)\n",
    "            break # закомментируйте или удалите break, если хотите увидеть весь вывод."
   ]
  },
  {
   "cell_type": "code",
   "execution_count": 3,
   "metadata": {},
   "outputs": [
    {
     "name": "stdout",
     "output_type": "stream",
     "text": [
      "Date: 2008-01-05 09:12:07 -0500 (Sat, 05 Jan 2008)\n",
      "\n"
     ]
    }
   ],
   "source": [
    "with open('mbox.txt') as f:\n",
    "    for line in f:\n",
    "        if line.startswith('Date: ') and line.endswith(')\\n'):\n",
    "            print(line)\n",
    "            break"
   ]
  },
  {
   "cell_type": "code",
   "execution_count": 4,
   "metadata": {},
   "outputs": [
    {
     "name": "stdout",
     "output_type": "stream",
     "text": [
      "09\n"
     ]
    }
   ],
   "source": [
    "with open('mbox.txt') as f:\n",
    "    for line in f:\n",
    "        if line.startswith('Date: ') and line.endswith(')\\n'):\n",
    "            print(line.split()[2].split(':')[0])\n",
    "            break"
   ]
  },
  {
   "cell_type": "code",
   "execution_count": 5,
   "metadata": {},
   "outputs": [
    {
     "name": "stdout",
     "output_type": "stream",
     "text": [
      "В 00 часов было отправлено 24 писем\n",
      "В 01 часов было отправлено 10 писем\n",
      "В 02 часов было отправлено 13 писем\n",
      "В 03 часов было отправлено 17 писем\n",
      "В 04 часов было отправлено 25 писем\n",
      "В 05 часов было отправлено 11 писем\n",
      "В 06 часов было отправлено 45 писем\n",
      "В 07 часов было отправлено 41 писем\n",
      "В 08 часов было отправлено 78 писем\n",
      "В 09 часов было отправлено 164 писем\n",
      "В 10 часов было отправлено 183 писем\n",
      "В 11 часов было отправлено 149 писем\n",
      "В 12 часов было отправлено 109 писем\n",
      "В 13 часов было отправлено 119 писем\n",
      "В 14 часов было отправлено 152 писем\n",
      "В 15 часов было отправлено 178 писем\n",
      "В 16 часов было отправлено 165 писем\n",
      "В 17 часов было отправлено 96 писем\n",
      "В 18 часов было отправлено 52 писем\n",
      "В 19 часов было отправлено 48 писем\n",
      "В 20 часов было отправлено 29 писем\n",
      "В 21 часов было отправлено 37 писем\n",
      "В 22 часов было отправлено 29 писем\n",
      "В 23 часов было отправлено 16 писем\n"
     ]
    }
   ],
   "source": [
    "hours = {}\n",
    "\n",
    "with open('mbox.txt') as f:\n",
    "    for line in f:\n",
    "        if line.startswith('Date: ') and line.endswith(')\\n'):\n",
    "            hours[line.split()[2].split(':')[0]] = hours.get(line.split()[2].split(':')[0], 0) + 1\n",
    "            \n",
    "for hour in sorted(hours):\n",
    "    print(f'В {hour} часов было отправлено {hours[hour]} писем')"
   ]
  },
  {
   "cell_type": "code",
   "execution_count": null,
   "metadata": {},
   "outputs": [],
   "source": []
  }
 ],
 "metadata": {
  "kernelspec": {
   "display_name": "Python 3 (ipykernel)",
   "language": "python",
   "name": "python3"
  },
  "language_info": {
   "codemirror_mode": {
    "name": "ipython",
    "version": 3
   },
   "file_extension": ".py",
   "mimetype": "text/x-python",
   "name": "python",
   "nbconvert_exporter": "python",
   "pygments_lexer": "ipython3",
   "version": "3.9.7"
  }
 },
 "nbformat": 4,
 "nbformat_minor": 2
}
