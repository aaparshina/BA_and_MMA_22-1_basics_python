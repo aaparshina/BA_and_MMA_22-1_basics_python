{
 "cells": [
  {
   "cell_type": "markdown",
   "metadata": {},
   "source": [
    "# Основы программирования в Python\n",
    "\n",
    "Алла Тамбовцева, НИУ ВШЭ\n",
    "\n",
    "\n",
    "\n",
    "## Часть 1: условные конструкции (продолжение)"
   ]
  },
  {
   "cell_type": "markdown",
   "metadata": {},
   "source": [
    "### Задание 1. Распродажа\n",
    "\n",
    "В магазине проходит акция:\n",
    "* На все товары дешевле 1000 рублей скидка 15%\n",
    "* На все товары дороже 1000, но дешевле 5000 рублей скидка 20%\n",
    "* На все товары дороже 5000 рублей скидка 25%\n",
    "\n",
    "**ФОРМАТ ВВОДА**  \n",
    "+ Целое неотрицательное число — цена товара в рублях\n",
    "\n",
    "**ФОРМАТ ВЫВОДА**  \n",
    "+ Целое неотрицательное число — скидка на товар в рублях"
   ]
  },
  {
   "cell_type": "code",
   "execution_count": 22,
   "metadata": {},
   "outputs": [
    {
     "name": "stdout",
     "output_type": "stream",
     "text": [
      "5000\n",
      "1000.0\n"
     ]
    }
   ],
   "source": [
    "N = int(input())\n",
    "if N > 5000:\n",
    "    print(N*0.25)\n",
    "elif 1000 < N <= 5000:\n",
    "    print(N*0.2)\n",
    "else:\n",
    "    print(N*0.15)"
   ]
  },
  {
   "cell_type": "markdown",
   "metadata": {},
   "source": [
    "### Задание 2. Сколько чисел совпадает?\n",
    "\n",
    "Даны три целых числа. Определите, сколько среди них совпадающих. Программа должна вывести одно из чисел: 3 (если все совпадают), 2 (если два совпадает) или 0 (если все числа различны).\n",
    "\n",
    "**ФОРМАТ ВВОДА**  \n",
    "+ Вводятся три целых числа\n",
    "\n",
    "**ФОРМАТ ВЫВОДА**  \n",
    "+ Целое число"
   ]
  },
  {
   "cell_type": "code",
   "execution_count": 23,
   "metadata": {},
   "outputs": [
    {
     "name": "stdout",
     "output_type": "stream",
     "text": [
      "2\n",
      "5\n",
      "3\n",
      "0\n"
     ]
    }
   ],
   "source": [
    "N1 = int(input())\n",
    "N2 = int(input())\n",
    "N3 = int(input())\n",
    "\n",
    "if N1 == N2 == N3:\n",
    "    print(3)\n",
    "elif N1 == N2 or N1 == N3 or N2 == N3:\n",
    "    print(2)\n",
    "else:\n",
    "    print(0)"
   ]
  },
  {
   "cell_type": "markdown",
   "metadata": {},
   "source": [
    "## Часть 2: цикл `while`"
   ]
  },
  {
   "cell_type": "markdown",
   "metadata": {},
   "source": [
    "### Задание 1. Максимум последовательности\n",
    "\n",
    "Последовательность состоит из заданного числа целых положительных чисел. Определите значение наибольшего элемента последовательности. \n",
    "\n",
    "**ФОРМАТ ВВОДА**\n",
    "\n",
    "+ Cначала вводится число N, затем вводится ровно N целых чисел.\n",
    "+ Каждое число вводится с новой строки  \n",
    "\n",
    "**ФОРМАТ ВЫВОДА**\n",
    "\n",
    "+ Одно число, ответ на задачу."
   ]
  },
  {
   "cell_type": "code",
   "execution_count": 1,
   "metadata": {},
   "outputs": [
    {
     "name": "stdout",
     "output_type": "stream",
     "text": [
      "3\n"
     ]
    },
    {
     "data": {
      "text/plain": [
       "3"
      ]
     },
     "execution_count": 1,
     "metadata": {},
     "output_type": "execute_result"
    }
   ],
   "source": [
    "N = int(input())\n",
    "N"
   ]
  },
  {
   "cell_type": "code",
   "execution_count": 4,
   "metadata": {},
   "outputs": [
    {
     "name": "stdout",
     "output_type": "stream",
     "text": [
      "3\n",
      "4\n",
      "1\n",
      "Максимум: 4\n"
     ]
    }
   ],
   "source": [
    "x = 0\n",
    "\n",
    "maxi = -1\n",
    "\n",
    "while x != N:\n",
    "    num = int(input())\n",
    "    \n",
    "    if num > maxi:\n",
    "        maxi = num\n",
    "        \n",
    "    x += 1\n",
    "    \n",
    "print(f'Максимум: {maxi}')"
   ]
  },
  {
   "cell_type": "markdown",
   "metadata": {},
   "source": [
    "### Задание 2. Больше предыдущего\n",
    "\n",
    "Последовательность состоит из натуральных чисел и завершается числом 0. Определите, сколько элементов этой последовательности больше предыдущего элемента. \n",
    "\n",
    "\n",
    "**ФОТРМАТ ВВОДА**\n",
    "\n",
    "+ Вводится последовательность целых чисел, оканчивающаяся числом 0 (само число 0 в последовательность не входит, а служит как признак ее окончания). \n",
    "\n",
    "+ Каждое число вводится на новой строке.\n",
    "\n",
    "**ФОРМАТ ВЫВОДА**\n",
    "\n",
    "+ Одно число, ответ на задачу.\n",
    "\n",
    "\n",
    "*Подсказка* Обработайте первое число до цикла и сохраните его в отдельную переменную (предыдущее число). Проверьте, что ваша программа правильно работает для пустой последовательности."
   ]
  },
  {
   "cell_type": "code",
   "execution_count": 5,
   "metadata": {},
   "outputs": [
    {
     "name": "stdout",
     "output_type": "stream",
     "text": [
      "10\n",
      "3\n",
      "24\n",
      "3\n",
      "2\n",
      "1\n",
      "0\n",
      "Чисел, которые больше предыдущих: 1\n"
     ]
    }
   ],
   "source": [
    "prev = int(input())\n",
    "\n",
    "a = 0\n",
    "\n",
    "while prev != 0:\n",
    "    next_num = int(input())\n",
    "    \n",
    "    if next_num != 0 and prev < next_num:\n",
    "        a += 1\n",
    "    \n",
    "    prev = next_num\n",
    "    \n",
    "print(f'Чисел, которые больше предыдущих: {a}')"
   ]
  },
  {
   "cell_type": "markdown",
   "metadata": {},
   "source": [
    "### Задание 3. Квадраты натуральных чисел\n",
    "\n",
    "Дано число N. В порядке возрастания выведите все квадраты натуральных чисел, которые будут меньше либо равны N. \n",
    "\n",
    "**ФОРМАТ ВВОДА** \n",
    "\n",
    "+ N  — положительное целое число. \n",
    "\n",
    "**ФОРМАТ ВЫВОДА** \n",
    "\n",
    "+ Квадраты целых чисел, не превосходящие (меньше или равно) N в порядке возрастания. \n",
    "+ Каждое число на новой строке."
   ]
  },
  {
   "cell_type": "code",
   "execution_count": 6,
   "metadata": {},
   "outputs": [
    {
     "name": "stdout",
     "output_type": "stream",
     "text": [
      "40\n",
      "1\n",
      "4\n",
      "9\n",
      "16\n",
      "25\n",
      "36\n"
     ]
    }
   ],
   "source": [
    "N = int(input())\n",
    "\n",
    "i = 1\n",
    "\n",
    "while i ** 2 <= N:\n",
    "    print(i ** 2)\n",
    "    \n",
    "    i += 1"
   ]
  },
  {
   "cell_type": "markdown",
   "metadata": {},
   "source": [
    "## Часть 3: немного про списки и `for`"
   ]
  },
  {
   "cell_type": "markdown",
   "metadata": {},
   "source": [
    "### Задача 1 (разминка)\n",
    "\n",
    "Даны два списка `a` и `b` (см. ниже).\n",
    "    \n",
    "1. Выведите на экран первый элемент списка `a`, третий элемент списка `a`, последний элемент списка `a`.\n",
    "2. Добавьте в список `b` элемент 7 (просто допишите в конец).\n",
    "3. Замените пятый элемент списка `a` на число 8.\n",
    "4. Создайте список `merged`, который включает в себя все элементы списка `a` и списка `b`.\n",
    "5. Создайте новый список `с`, который получается заменой последнего элемента списка `a` на число 100. Сам список `a` измениться не должен!"
   ]
  },
  {
   "cell_type": "code",
   "execution_count": 7,
   "metadata": {},
   "outputs": [],
   "source": [
    "a = [1, 0, 9, 12, 18, 34, 89, 91, 33, 127]\n",
    "b = [2, 8, 9, 11, 76, 25, 44]"
   ]
  },
  {
   "cell_type": "code",
   "execution_count": 8,
   "metadata": {},
   "outputs": [
    {
     "name": "stdout",
     "output_type": "stream",
     "text": [
      "1 9 127\n"
     ]
    }
   ],
   "source": [
    "# 1\n",
    "print(a[0], a[2], a[-1])"
   ]
  },
  {
   "cell_type": "code",
   "execution_count": 9,
   "metadata": {},
   "outputs": [
    {
     "data": {
      "text/plain": [
       "[2, 8, 9, 11, 76, 25, 44, 7]"
      ]
     },
     "execution_count": 9,
     "metadata": {},
     "output_type": "execute_result"
    }
   ],
   "source": [
    "# 2\n",
    "b.append(7)\n",
    "b"
   ]
  },
  {
   "cell_type": "code",
   "execution_count": 10,
   "metadata": {},
   "outputs": [
    {
     "data": {
      "text/plain": [
       "[1, 0, 9, 12, 8, 34, 89, 91, 33, 127]"
      ]
     },
     "execution_count": 10,
     "metadata": {},
     "output_type": "execute_result"
    }
   ],
   "source": [
    "# 3\n",
    "a[4] = 8\n",
    "a"
   ]
  },
  {
   "cell_type": "code",
   "execution_count": 11,
   "metadata": {},
   "outputs": [
    {
     "data": {
      "text/plain": [
       "[1, 0, 9, 12, 8, 34, 89, 91, 33, 127, 2, 8, 9, 11, 76, 25, 44, 7]"
      ]
     },
     "execution_count": 11,
     "metadata": {},
     "output_type": "execute_result"
    }
   ],
   "source": [
    "# 4\n",
    "merged = a + b\n",
    "merged"
   ]
  },
  {
   "cell_type": "code",
   "execution_count": 12,
   "metadata": {},
   "outputs": [
    {
     "name": "stdout",
     "output_type": "stream",
     "text": [
      "[1, 0, 9, 12, 8, 34, 89, 91, 33, 127] [1, 0, 9, 12, 8, 34, 89, 91, 33, 100]\n"
     ]
    }
   ],
   "source": [
    "# 5\n",
    "c = a.copy()\n",
    "c[-1] = 100\n",
    "print(a, c)"
   ]
  },
  {
   "cell_type": "markdown",
   "metadata": {},
   "source": [
    "*Примечание:* написать `c = a` вместо `a.copy()` нельзя, так как этот код создаст ссылку `c` на старый список `a`, а не новый список `c`, поэтому при изменении списка `c` список `a` также изменится."
   ]
  },
  {
   "cell_type": "markdown",
   "metadata": {},
   "source": [
    "### Задача 2 (поэлементная) \n",
    "\n",
    "Дан список `L`. Выведите на экран (последовательно, с новой строчки): \n",
    "\n",
    "* все элементы списка `L`;\n",
    "* логарифмированные значения элементов списка `L`."
   ]
  },
  {
   "cell_type": "code",
   "execution_count": 13,
   "metadata": {},
   "outputs": [],
   "source": [
    "L = [12, 3, 8, 125, 10, 98, 54, 199]"
   ]
  },
  {
   "cell_type": "code",
   "execution_count": 14,
   "metadata": {},
   "outputs": [
    {
     "name": "stdout",
     "output_type": "stream",
     "text": [
      "12\n",
      "3\n",
      "8\n",
      "125\n",
      "10\n",
      "98\n",
      "54\n",
      "199\n"
     ]
    }
   ],
   "source": [
    "# до добавления 0 - все элементы\n",
    "for i in L:\n",
    "    print(i)"
   ]
  },
  {
   "cell_type": "markdown",
   "metadata": {},
   "source": [
    "Замените пятый элемент списка `L` на 0. Проделайте те же операции, что и раньше. Объясните, почему получаются такие результаты."
   ]
  },
  {
   "cell_type": "code",
   "execution_count": 15,
   "metadata": {},
   "outputs": [
    {
     "name": "stdout",
     "output_type": "stream",
     "text": [
      "2.4849066497880004\n",
      "1.0986122886681098\n",
      "2.0794415416798357\n",
      "4.8283137373023015\n",
      "2.302585092994046\n",
      "4.584967478670572\n",
      "3.9889840465642745\n",
      "5.293304824724492\n"
     ]
    }
   ],
   "source": [
    "# до добавления 0 - натуральные логарифмы всех элементов\n",
    "import math\n",
    "for j in L:\n",
    "    print(math.log(j))"
   ]
  },
  {
   "cell_type": "markdown",
   "metadata": {},
   "source": [
    "Примечание: импортировать модули или библиотеки нужно вне циклов, так как их достаточно импортировать один раз. Многократный импорт библиотеки в цикле не вызовет ошибку, но замедлит исполнение кода (на таком простом примере мы это не заметим, но это так)."
   ]
  },
  {
   "cell_type": "code",
   "execution_count": 16,
   "metadata": {},
   "outputs": [
    {
     "name": "stdout",
     "output_type": "stream",
     "text": [
      "2.4849066497880004\n",
      "1.0986122886681098\n",
      "2.0794415416798357\n",
      "4.8283137373023015\n"
     ]
    },
    {
     "ename": "ValueError",
     "evalue": "math domain error",
     "output_type": "error",
     "traceback": [
      "\u001b[0;31m---------------------------------------------------------------------------\u001b[0m",
      "\u001b[0;31mValueError\u001b[0m                                Traceback (most recent call last)",
      "\u001b[0;32m/var/folders/l5/wdnv8y_12csg_k3v_rvjb_dm0000gn/T/ipykernel_34923/3265475148.py\u001b[0m in \u001b[0;36m<module>\u001b[0;34m\u001b[0m\n\u001b[1;32m      4\u001b[0m \u001b[0;34m\u001b[0m\u001b[0m\n\u001b[1;32m      5\u001b[0m \u001b[0;32mfor\u001b[0m \u001b[0mj\u001b[0m \u001b[0;32min\u001b[0m \u001b[0mL\u001b[0m\u001b[0;34m:\u001b[0m\u001b[0;34m\u001b[0m\u001b[0;34m\u001b[0m\u001b[0m\n\u001b[0;32m----> 6\u001b[0;31m     \u001b[0mprint\u001b[0m\u001b[0;34m(\u001b[0m\u001b[0mmath\u001b[0m\u001b[0;34m.\u001b[0m\u001b[0mlog\u001b[0m\u001b[0;34m(\u001b[0m\u001b[0mj\u001b[0m\u001b[0;34m)\u001b[0m\u001b[0;34m)\u001b[0m\u001b[0;34m\u001b[0m\u001b[0;34m\u001b[0m\u001b[0m\n\u001b[0m",
      "\u001b[0;31mValueError\u001b[0m: math domain error"
     ]
    }
   ],
   "source": [
    "# после добавления 0 – натуральные логарифмы всех элементов\n",
    "L[4] = 0\n",
    "L\n",
    "\n",
    "for j in L:\n",
    "    print(math.log(j))"
   ]
  },
  {
   "cell_type": "markdown",
   "metadata": {},
   "source": [
    "На пятом элементе все сломалось, исполнение кода остановилось, Python вышел из цикла. Значит, проблема с нулем. Это объяснимо, логарифм не определен для неположительных чисел. Python выдает ошибку значения `ValueError` и пишет про *domain*, что по-английски область определения функции, то есть множество значений, которые может принимать аргумент функции."
   ]
  },
  {
   "cell_type": "markdown",
   "metadata": {},
   "source": [
    "### Задача 3 (демографическая)\n",
    "\n",
    "В списке `age` сохранены значения возраста респондентов: \n",
    "\n",
    "    age = [24, 35, 42, 27, 45, 48, 33]\n",
    "    \n",
    "Создайте список `age2`, в котором будут храниться значения возраста, возведенные в квадрат.\n",
    "\n",
    "**Подсказка:** используйте цикл `for`."
   ]
  },
  {
   "cell_type": "code",
   "execution_count": 17,
   "metadata": {},
   "outputs": [
    {
     "data": {
      "text/plain": [
       "[576, 1225, 1764, 729, 2025, 2304, 1089]"
      ]
     },
     "execution_count": 17,
     "metadata": {},
     "output_type": "execute_result"
    }
   ],
   "source": [
    "age = [24, 35, 42, 27, 45, 48, 33]\n",
    "age2 = []\n",
    "for a in age:\n",
    "    age2.append(a ** 2)\n",
    "age2"
   ]
  },
  {
   "cell_type": "code",
   "execution_count": 18,
   "metadata": {},
   "outputs": [
    {
     "data": {
      "text/plain": [
       "[576, 1225, 1764, 729, 2025, 2304, 1089]"
      ]
     },
     "execution_count": 18,
     "metadata": {},
     "output_type": "execute_result"
    }
   ],
   "source": [
    "# то же, но со списковыми включениями\n",
    "age2 = [a**2 for a in age]\n",
    "age2"
   ]
  },
  {
   "cell_type": "markdown",
   "metadata": {},
   "source": [
    "### Задача 4 (мыслительная)\n",
    "\n",
    "Объясните, что делает следующий код и почему он выдает такие результаты:"
   ]
  },
  {
   "cell_type": "code",
   "execution_count": 20,
   "metadata": {},
   "outputs": [
    {
     "name": "stdout",
     "output_type": "stream",
     "text": [
      "5\n",
      "3\n",
      "5\n",
      "7\n"
     ]
    }
   ],
   "source": [
    "l = [1,2,3,4]\n",
    "\n",
    "for i in range(len(l)):\n",
    "    a = l[i] + l[i-1]\n",
    "    print(a)"
   ]
  },
  {
   "cell_type": "markdown",
   "metadata": {},
   "source": [
    "Разберем код на части. Что такое `range(len(l))`?"
   ]
  },
  {
   "cell_type": "code",
   "execution_count": 21,
   "metadata": {},
   "outputs": [
    {
     "data": {
      "text/plain": [
       "[0, 1, 2, 3]"
      ]
     },
     "execution_count": 21,
     "metadata": {},
     "output_type": "execute_result"
    }
   ],
   "source": [
    "list(range(len(l))) # индексы элементов списка l"
   ]
  },
  {
   "cell_type": "markdown",
   "metadata": {},
   "source": [
    "Значит, цикл `for` бегает по индексам списка `l`. Тогда `l[i]` ‒ это i-тый элемент списка `l`, а `l[i-1]` ‒ элемент, предшествующий i-тому элементу. Эти два элемента складываются, и результат сохраняется в `a`.\n",
    "\n",
    "Посмотрим. Если `i = 0`, то получаем `l[0]` и `l[-1]`. Значит, на первом шаге (на первой итерации) цикла мы складываем первый и последний элементы списка.\n",
    "\n",
    "    1 + 4 = 5\n",
    "\n",
    "Двигаемся дальше. Если `i = 1`, то получаем `l[1]` и `l[0]`. Значит, на втором шаге цикла мы складываем второй и первый элементы списка.\n",
    "\n",
    "    2 + 1 = 3\n",
    "\n",
    "И так далее.\n",
    "\n",
    "Почему этот код интересен? Потому, что он не ломается: Python не возражает против отрицательных индексов элементов, он просто начинает считать элементы с конца списка."
   ]
  }
 ],
 "metadata": {
  "kernelspec": {
   "display_name": "Python 3 (ipykernel)",
   "language": "python",
   "name": "python3"
  },
  "language_info": {
   "codemirror_mode": {
    "name": "ipython",
    "version": 3
   },
   "file_extension": ".py",
   "mimetype": "text/x-python",
   "name": "python",
   "nbconvert_exporter": "python",
   "pygments_lexer": "ipython3",
   "version": "3.9.7"
  }
 },
 "nbformat": 4,
 "nbformat_minor": 2
}
