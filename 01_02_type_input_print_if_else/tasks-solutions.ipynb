{
 "cells": [
  {
   "cell_type": "markdown",
   "metadata": {},
   "source": [
    "# Основы программирования в Python\n",
    "\n",
    "*Алла Тамбовцева, НИУ ВШЭ*\n",
    "\n",
    "\n",
    "## Часть 1: введение\n"
   ]
  },
  {
   "cell_type": "markdown",
   "metadata": {},
   "source": [
    "### Задание 0 (вычислительное)\n",
    "\n",
    "Посчитайте:\n",
    "\n",
    "* $\\log(25)$, $\\log(\\exp(3))$, $\\log_{10}1000$\n",
    "* $\\pi^3$, $123^4$ \n",
    "* $\\sqrt{459}$"
   ]
  },
  {
   "cell_type": "code",
   "execution_count": 1,
   "metadata": {},
   "outputs": [
    {
     "name": "stdout",
     "output_type": "stream",
     "text": [
      "3.2188758248682006\n",
      "3.0\n",
      "2.9999999999999996\n",
      "3.0\n",
      "31.006276680299816\n",
      "228886641\n",
      "21.42428528562855\n",
      "21.42428528562855\n"
     ]
    }
   ],
   "source": [
    "import math\n",
    "\n",
    "# пункт 1\n",
    "print(math.log(25))\n",
    "print(math.log(math.exp(3)))\n",
    "print(math.log(1000, 10))  # на самом деле ровно 3 – опять история про формат float\n",
    "print(math.log10(1000))  # альтернатива строке выше\n",
    "\n",
    "# пункт 2\n",
    "print(math.pi ** 3)\n",
    "print(123 ** 4)\n",
    "\n",
    "# пункт 3\n",
    "print(math.sqrt(459))\n",
    "print(459 ** 0.5)  # альтернатива коду выше"
   ]
  },
  {
   "cell_type": "markdown",
   "metadata": {},
   "source": [
    "### Задание 1 (стартовое)\n",
    "\n",
    "В переменных `a` и `b` хранятся некоторые числа. Напишите код, который бы менял значения переменных местами. Пример:"
   ]
  },
  {
   "cell_type": "code",
   "execution_count": 2,
   "metadata": {},
   "outputs": [],
   "source": [
    "# до\n",
    "a = 2\n",
    "b = 5"
   ]
  },
  {
   "cell_type": "code",
   "execution_count": 2,
   "metadata": {},
   "outputs": [
    {
     "name": "stdout",
     "output_type": "stream",
     "text": [
      "5\n",
      "2\n"
     ]
    }
   ],
   "source": [
    "# после\n",
    "print(a)\n",
    "print(b)"
   ]
  },
  {
   "cell_type": "code",
   "execution_count": 3,
   "metadata": {},
   "outputs": [
    {
     "name": "stdout",
     "output_type": "stream",
     "text": [
      "5\n",
      "2\n"
     ]
    }
   ],
   "source": [
    "c = a\n",
    "a = b\n",
    "b = c\n",
    "print(a)\n",
    "print(b)"
   ]
  },
  {
   "cell_type": "markdown",
   "metadata": {},
   "source": [
    "Еще в Python можно решить эту задачу через множественное присваивание, без создания третьей переменной:"
   ]
  },
  {
   "cell_type": "code",
   "execution_count": 4,
   "metadata": {},
   "outputs": [
    {
     "name": "stdout",
     "output_type": "stream",
     "text": [
      "5 2\n"
     ]
    }
   ],
   "source": [
    "a = 2\n",
    "b = 5\n",
    "a, b = b, a\n",
    "print(a, b)"
   ]
  },
  {
   "cell_type": "markdown",
   "metadata": {},
   "source": [
    "### Задание 2 (экономическое)\n",
    "\n",
    "Напишите программу, которая логарифмирует значение ВВП, которое хранится в переменной `gdp` и округляет результат до второго знака после запятой."
   ]
  },
  {
   "cell_type": "code",
   "execution_count": 5,
   "metadata": {},
   "outputs": [
    {
     "data": {
      "text/plain": [
       "15.32"
      ]
     },
     "execution_count": 5,
     "metadata": {},
     "output_type": "execute_result"
    }
   ],
   "source": [
    "gdp = 4500000\n",
    "log_gdp = round(math.log(gdp), 2) \n",
    "log_gdp"
   ]
  },
  {
   "cell_type": "markdown",
   "metadata": {},
   "source": [
    "### Задание 3 (весеннее)\n",
    "\n",
    "С приходом весны питон решил каждый день выползать погреться на солнышко. Однако он знал, что солнце весной довольно активное, и поэтому разработал такую схему: в первый день он греется одну минуту, а в каждый последующий день увеличивает время пребывания на солнце на 3 минуты. Напишите код, который позволит вычислять, сколько минут питон будет тратить на солнечные ванны в некоторый выбранный день.\n",
    "\n",
    "*Внимание:* ваш код должен выводить номер дня и число минут. Использовать циклы нельзя, в задании предполагается многократный запуск ячеек с кодом."
   ]
  },
  {
   "cell_type": "code",
   "execution_count": 7,
   "metadata": {},
   "outputs": [],
   "source": [
    "# решение 1 – с многократным запуском следующей ячейки\n",
    "i = 1\n",
    "day = 1"
   ]
  },
  {
   "cell_type": "code",
   "execution_count": 8,
   "metadata": {},
   "outputs": [
    {
     "name": "stdout",
     "output_type": "stream",
     "text": [
      "2 4\n"
     ]
    }
   ],
   "source": [
    "i = i + 1\n",
    "day = day + 3\n",
    "print(i, day)"
   ]
  },
  {
   "cell_type": "code",
   "execution_count": 9,
   "metadata": {},
   "outputs": [
    {
     "name": "stdout",
     "output_type": "stream",
     "text": [
      "Enter day number: 5\n",
      "13\n"
     ]
    }
   ],
   "source": [
    "# решение 2 – запрашиваем номер дня у пользователя и выводим результат – число минут\n",
    "n = int(input(\"Enter day number: \"))\n",
    "res = 1 + 3 * (n - 1)\n",
    "print(res)"
   ]
  },
  {
   "cell_type": "markdown",
   "metadata": {},
   "source": [
    "### Задание 4 (приветственное)\n",
    "\n",
    "Напишите программу, которая запрашивает у пользователя имя и фамилию и выводит на экран сообщение "
   ]
  },
  {
   "cell_type": "markdown",
   "metadata": {},
   "source": [
    "```Имя Фамилия```, добро пожаловать!"
   ]
  },
  {
   "cell_type": "code",
   "execution_count": 10,
   "metadata": {},
   "outputs": [
    {
     "name": "stdout",
     "output_type": "stream",
     "text": [
      "Enter name: Alla\n",
      "Enter surname: T\n"
     ]
    }
   ],
   "source": [
    "name = input(\"Enter name: \")\n",
    "surname = input(\"Enter surname: \")"
   ]
  },
  {
   "cell_type": "code",
   "execution_count": 11,
   "metadata": {},
   "outputs": [
    {
     "name": "stdout",
     "output_type": "stream",
     "text": [
      "Alla T, добро пожаловать!\n"
     ]
    }
   ],
   "source": [
    "# решение 1 – без форматирования строк, но с выбором разделителя\n",
    "print(name, \" \", surname, \", добро пожаловать!\", sep=\"\")"
   ]
  },
  {
   "cell_type": "code",
   "execution_count": 13,
   "metadata": {},
   "outputs": [
    {
     "name": "stdout",
     "output_type": "stream",
     "text": [
      "Alla T, добро пожаловать!\n"
     ]
    }
   ],
   "source": [
    "# решение 2 – с f-строками\n",
    "print(f\"{name} {surname}, добро пожаловать!\")"
   ]
  },
  {
   "cell_type": "code",
   "execution_count": 14,
   "metadata": {},
   "outputs": [
    {
     "name": "stdout",
     "output_type": "stream",
     "text": [
      "Alla T, добро пожаловать!\n"
     ]
    }
   ],
   "source": [
    "# решение 3 – с «классическим» форматированием строк\n",
    "print(\"%s %s, добро пожаловать!\" %(name, surname))"
   ]
  },
  {
   "cell_type": "markdown",
   "metadata": {},
   "source": [
    "### Задание 5 (кулинарно-политологическое)\n",
    "\n",
    "Перед вами шаблон рецепта жизни политолога на факультете социальных наук:"
   ]
  },
  {
   "cell_type": "markdown",
   "metadata": {},
   "source": [
    "Рецепт\n",
    "\n",
    "`название курса`: 200 г\n",
    "\n",
    "`название курса`: 300 г\n",
    "\n",
    "`название курса`: 100 г\n",
    "\n",
    "Приправить политической историей. Добавить математические модели по вкусу."
   ]
  },
  {
   "cell_type": "markdown",
   "metadata": {},
   "source": [
    "Напишите код, который делает следующее: запрашивает у пользователя названия курсов (три отдельных вопроса), а потом подставляет их в имеющийся шаблон.\n",
    "\n",
    "*Пример:*"
   ]
  },
  {
   "cell_type": "markdown",
   "metadata": {},
   "source": [
    "```\n",
    "Введите название первого курса: политическая теория)\n",
    "Введите название второго курса: история политических учений\n",
    "Введите название третьего курса: математика\n",
    "```"
   ]
  },
  {
   "cell_type": "markdown",
   "metadata": {},
   "source": [
    "```\n",
    "Рецепт\n",
    "\n",
    "политическая теория : 200 г\n",
    "\n",
    "история политических учений: 300 г\n",
    "\n",
    "математика: 100 г\n",
    "\n",
    "Приправить политической историей. Добавить математические модели по вкусу.\n",
    "```"
   ]
  },
  {
   "cell_type": "code",
   "execution_count": 15,
   "metadata": {},
   "outputs": [
    {
     "name": "stdout",
     "output_type": "stream",
     "text": [
      "Введите название первого курса: политическая теория\n",
      "Введите название второго курса: история полит учений\n",
      "Введите название третьего курса: математика\n",
      "Рецепт \n",
      " политическая теория: 200 г \n",
      " история полит учений: 300 г \n",
      " математика: 100 г \n",
      " Приправить политической историей. Добавить математические модели по вкусу.\n"
     ]
    }
   ],
   "source": [
    "#  помощью f-strings \n",
    "# символ \\n обеспечивает переход на новую строку при выводе текста на экран\n",
    "# существует аналогичный символ \\t - отвечает за табуляцию\n",
    "\n",
    "# обратный слэш в конце первой строки позволяет перенести часть строки на\n",
    "# следующую так, чтобы Python понимал, что это продолжение и не выдавал\n",
    "# ошибку SyntaxError: EOL while scanning string literal\n",
    "# (можете убрать его и убедиться, что вторая строка перестанет быть красной\n",
    "# и всплывет указанная ошибка)\n",
    "\n",
    "c1 = input(\"Введите название первого курса: \")\n",
    "c2 = input(\"Введите название второго курса: \")\n",
    "c3 = input(\"Введите название третьего курса: \")\n",
    "\n",
    "rec = f\"Рецепт \\n {c1}: 200 г \\n {c2}: 300 г \\n {c3}: 100 г \\n \\\n",
    "Приправить политической историей. Добавить математические модели по вкусу.\"\n",
    "\n",
    "print(rec)"
   ]
  },
  {
   "cell_type": "markdown",
   "metadata": {},
   "source": [
    "## Часть 2: условные конструкции\n",
    "\n",
    "### Задача 1\n",
    "\n",
    "Напишите программу, которая просит пользователя ввести положительное число, и если пользователь вводит положительное число, выводит на экран сообщение \"Молодец!\", если нет ‒ \"Это не положительное число.\".\n",
    "\n",
    "Считайте, что пользователь в любом случае вводит числа, а не какой-то текст."
   ]
  },
  {
   "cell_type": "code",
   "execution_count": 1,
   "metadata": {},
   "outputs": [
    {
     "name": "stdout",
     "output_type": "stream",
     "text": [
      "10\n",
      "Молодец!\n"
     ]
    }
   ],
   "source": [
    "N = int(input())\n",
    "\n",
    "if N > 0:\n",
    "    print('Молодец!')\n",
    "    \n",
    "else:\n",
    "    print('Это не положительное число')"
   ]
  },
  {
   "cell_type": "markdown",
   "metadata": {},
   "source": [
    "### Задача 2\n",
    "\n",
    "У питона есть набор любимых чисел.\n",
    "\n",
    "    favorites = [3, 7, 11, 23, 18, 48, 81]\n",
    "\n",
    "Напишите программу, которая просит пользователя ввести целое число, и если оно нравится питону, на экран будет выводиться сообщение: \"Мое любимое число!\", если нет ‒ \"Эх, ну почему?\"."
   ]
  },
  {
   "cell_type": "code",
   "execution_count": 2,
   "metadata": {},
   "outputs": [
    {
     "name": "stdout",
     "output_type": "stream",
     "text": [
      "2\n",
      "Эх, ну почему?\n"
     ]
    }
   ],
   "source": [
    "N = int(input())\n",
    "\n",
    "favorites = [3, 7, 11, 23, 18, 48, 81]\n",
    "\n",
    "if N in favorites:\n",
    "    print('Мое любимое число!')\n",
    "else:\n",
    "    print('Эх, ну почему?')"
   ]
  }
 ],
 "metadata": {
  "kernelspec": {
   "display_name": "Python 3 (ipykernel)",
   "language": "python",
   "name": "python3"
  },
  "language_info": {
   "codemirror_mode": {
    "name": "ipython",
    "version": 3
   },
   "file_extension": ".py",
   "mimetype": "text/x-python",
   "name": "python",
   "nbconvert_exporter": "python",
   "pygments_lexer": "ipython3",
   "version": "3.9.7"
  }
 },
 "nbformat": 4,
 "nbformat_minor": 2
}
